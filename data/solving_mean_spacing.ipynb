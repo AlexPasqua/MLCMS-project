{
 "cells": [
  {
   "cell_type": "code",
   "execution_count": 1,
   "metadata": {},
   "outputs": [],
   "source": [
    "import numpy as np\n",
    "import pandas as pd\n",
    "import matplotlib.pyplot as plt"
   ]
  },
  {
   "cell_type": "code",
   "execution_count": 2,
   "metadata": {},
   "outputs": [],
   "source": [
    "df = pd.read_pickle(\"dataset_corridor_30\")\n",
    "df['MEAN_SPACINGS_2'] = np.zeros(len(df))\n",
    "mean_spacing_again = []\n",
    "for i, r in df.iterrows():\n",
    "    accum = 0\n",
    "    knns = r['KNN_RELATIVE_POSITIONS']\n",
    "    for j in range(0,len(knns),2):\n",
    "        accum += np.linalg.norm(np.array(knns[j], knns[j+1]))\n",
    "    mean_spacing_again.append(accum / len(knns))"
   ]
  },
  {
   "cell_type": "code",
   "execution_count": 3,
   "metadata": {},
   "outputs": [
    {
     "data": {
      "text/html": [
       "<div>\n",
       "<style scoped>\n",
       "    .dataframe tbody tr th:only-of-type {\n",
       "        vertical-align: middle;\n",
       "    }\n",
       "\n",
       "    .dataframe tbody tr th {\n",
       "        vertical-align: top;\n",
       "    }\n",
       "\n",
       "    .dataframe thead th {\n",
       "        text-align: right;\n",
       "    }\n",
       "</style>\n",
       "<table border=\"1\" class=\"dataframe\">\n",
       "  <thead>\n",
       "    <tr style=\"text-align: right;\">\n",
       "      <th></th>\n",
       "      <th>SPEED</th>\n",
       "      <th>MEAN_SPACING</th>\n",
       "      <th>KNN_RELATIVE_POSITIONS</th>\n",
       "      <th>MEAN_SPACINGS_2</th>\n",
       "    </tr>\n",
       "  </thead>\n",
       "  <tbody>\n",
       "    <tr>\n",
       "      <th>752</th>\n",
       "      <td>0.976187</td>\n",
       "      <td>5.698636</td>\n",
       "      <td>[0.562466, 0.6647799999999995, 0.708253, 1.420...</td>\n",
       "      <td>0.404841</td>\n",
       "    </tr>\n",
       "    <tr>\n",
       "      <th>753</th>\n",
       "      <td>0.988093</td>\n",
       "      <td>5.69041</td>\n",
       "      <td>[0.5622, 0.6841800000000005, 0.746570000000000...</td>\n",
       "      <td>0.420918</td>\n",
       "    </tr>\n",
       "    <tr>\n",
       "      <th>754</th>\n",
       "      <td>1.010181</td>\n",
       "      <td>5.681211</td>\n",
       "      <td>[0.5727180000000001, 0.6986500000000007, 0.783...</td>\n",
       "      <td>0.438265</td>\n",
       "    </tr>\n",
       "    <tr>\n",
       "      <th>755</th>\n",
       "      <td>0.997903</td>\n",
       "      <td>5.674287</td>\n",
       "      <td>[0.59061, 0.7074099999999994, 0.82171299999999...</td>\n",
       "      <td>0.456759</td>\n",
       "    </tr>\n",
       "    <tr>\n",
       "      <th>756</th>\n",
       "      <td>0.969367</td>\n",
       "      <td>5.66749</td>\n",
       "      <td>[0.6122000000000001, 0.7138900000000001, 0.851...</td>\n",
       "      <td>0.477355</td>\n",
       "    </tr>\n",
       "    <tr>\n",
       "      <th>...</th>\n",
       "      <td>...</td>\n",
       "      <td>...</td>\n",
       "      <td>...</td>\n",
       "      <td>...</td>\n",
       "    </tr>\n",
       "    <tr>\n",
       "      <th>16020</th>\n",
       "      <td>1.130555</td>\n",
       "      <td>4.243732</td>\n",
       "      <td>[-0.25951, 0.6778199999999996, 1.176187, 1.435...</td>\n",
       "      <td>0.467666</td>\n",
       "    </tr>\n",
       "    <tr>\n",
       "      <th>16021</th>\n",
       "      <td>1.259014</td>\n",
       "      <td>5.00114</td>\n",
       "      <td>[1.199493, 1.4273100000000003, 0.575144, 2.253...</td>\n",
       "      <td>0.544402</td>\n",
       "    </tr>\n",
       "    <tr>\n",
       "      <th>16022</th>\n",
       "      <td>1.235355</td>\n",
       "      <td>5.010149</td>\n",
       "      <td>[1.233796, 1.427130000000001, 0.61452600000000...</td>\n",
       "      <td>0.569530</td>\n",
       "    </tr>\n",
       "    <tr>\n",
       "      <th>16023</th>\n",
       "      <td>1.144816</td>\n",
       "      <td>5.016434</td>\n",
       "      <td>[1.26939, 1.4213700000000005, 0.658093, 2.2676...</td>\n",
       "      <td>0.596030</td>\n",
       "    </tr>\n",
       "    <tr>\n",
       "      <th>16024</th>\n",
       "      <td>1.101266</td>\n",
       "      <td>5.014343</td>\n",
       "      <td>[1.304134, 1.4027699999999994, 0.7030179999999...</td>\n",
       "      <td>0.623144</td>\n",
       "    </tr>\n",
       "  </tbody>\n",
       "</table>\n",
       "<p>10976 rows × 4 columns</p>\n",
       "</div>"
      ],
      "text/plain": [
       "          SPEED MEAN_SPACING  \\\n",
       "752    0.976187     5.698636   \n",
       "753    0.988093      5.69041   \n",
       "754    1.010181     5.681211   \n",
       "755    0.997903     5.674287   \n",
       "756    0.969367      5.66749   \n",
       "...         ...          ...   \n",
       "16020  1.130555     4.243732   \n",
       "16021  1.259014      5.00114   \n",
       "16022  1.235355     5.010149   \n",
       "16023  1.144816     5.016434   \n",
       "16024  1.101266     5.014343   \n",
       "\n",
       "                                  KNN_RELATIVE_POSITIONS  MEAN_SPACINGS_2  \n",
       "752    [0.562466, 0.6647799999999995, 0.708253, 1.420...         0.404841  \n",
       "753    [0.5622, 0.6841800000000005, 0.746570000000000...         0.420918  \n",
       "754    [0.5727180000000001, 0.6986500000000007, 0.783...         0.438265  \n",
       "755    [0.59061, 0.7074099999999994, 0.82171299999999...         0.456759  \n",
       "756    [0.6122000000000001, 0.7138900000000001, 0.851...         0.477355  \n",
       "...                                                  ...              ...  \n",
       "16020  [-0.25951, 0.6778199999999996, 1.176187, 1.435...         0.467666  \n",
       "16021  [1.199493, 1.4273100000000003, 0.575144, 2.253...         0.544402  \n",
       "16022  [1.233796, 1.427130000000001, 0.61452600000000...         0.569530  \n",
       "16023  [1.26939, 1.4213700000000005, 0.658093, 2.2676...         0.596030  \n",
       "16024  [1.304134, 1.4027699999999994, 0.7030179999999...         0.623144  \n",
       "\n",
       "[10976 rows x 4 columns]"
      ]
     },
     "execution_count": 3,
     "metadata": {},
     "output_type": "execute_result"
    }
   ],
   "source": [
    "df['MEAN_SPACINGS_2'] = mean_spacing_again\n",
    "df"
   ]
  },
  {
   "cell_type": "code",
   "execution_count": 4,
   "metadata": {},
   "outputs": [
    {
     "data": {
      "text/plain": [
       "<matplotlib.collections.PathCollection at 0x2759cd1de50>"
      ]
     },
     "execution_count": 4,
     "metadata": {},
     "output_type": "execute_result"
    },
    {
     "data": {
      "image/png": "[encoded data removed]",
      "text/plain": [
       "<Figure size 432x288 with 1 Axes>"
      ]
     },
     "metadata": {
      "needs_background": "light"
     },
     "output_type": "display_data"
    }
   ],
   "source": [
    "speeds = df['SPEED'].to_numpy()\n",
    "plt.scatter(mean_spacing_again, speeds, s=1)"
   ]
  },
  {
   "cell_type": "markdown",
   "metadata": {},
   "source": [
    "# DIFFERENT ROUTE.."
   ]
  },
  {
   "cell_type": "code",
   "execution_count": 5,
   "metadata": {},
   "outputs": [],
   "source": [
    "def _create_num_neighbours_df(data: pd.DataFrame, neighbour_num: int = 10) -> pd.DataFrame:\n",
    "    \"\"\"\n",
    "    filter frames from dataframe where there are not enough neighbours\n",
    "    :param data: dataframe\n",
    "    :param neighbour_num: number of neighbours required in each frame\n",
    "    :return: filtered dataframe\n",
    "    \"\"\"\n",
    "    frames = data['FRAME'].unique()\n",
    "    frames_to_delete = []\n",
    "    for frame in frames:\n",
    "        if len(data[data['FRAME'] == frame]) < (neighbour_num + 1):  # has to take into account also the pedestrian itself\n",
    "            frames_to_delete.append(frame)\n",
    "    df = data[~data['FRAME'].isin(frames_to_delete)]\n",
    "    return df"
   ]
  },
  {
   "cell_type": "code",
   "execution_count": 6,
   "metadata": {},
   "outputs": [],
   "source": [
    "df_2 = pd.read_pickle(\"corridor_30_extended.pickle\")\n",
    "df_2 = _create_num_neighbours_df(df_2)\n"
   ]
  },
  {
   "cell_type": "code",
   "execution_count": 15,
   "metadata": {},
   "outputs": [
    {
     "data": {
      "text/html": [
       "<div>\n",
       "<style scoped>\n",
       "    .dataframe tbody tr th:only-of-type {\n",
       "        vertical-align: middle;\n",
       "    }\n",
       "\n",
       "    .dataframe tbody tr th {\n",
       "        vertical-align: top;\n",
       "    }\n",
       "\n",
       "    .dataframe thead th {\n",
       "        text-align: right;\n",
       "    }\n",
       "</style>\n",
       "<table border=\"1\" class=\"dataframe\">\n",
       "  <thead>\n",
       "    <tr style=\"text-align: right;\">\n",
       "      <th></th>\n",
       "      <th>ID</th>\n",
       "      <th>FRAME</th>\n",
       "      <th>X</th>\n",
       "      <th>Y</th>\n",
       "      <th>OTHERS_POSITIONS</th>\n",
       "      <th>SPEED</th>\n",
       "    </tr>\n",
       "  </thead>\n",
       "  <tbody>\n",
       "    <tr>\n",
       "      <th>6435</th>\n",
       "      <td>37</td>\n",
       "      <td>800</td>\n",
       "      <td>0.061577</td>\n",
       "      <td>-4.469980</td>\n",
       "      <td>[[1.12367, -3.1629500000000004, 1.684152045355...</td>\n",
       "      <td>0.992480</td>\n",
       "    </tr>\n",
       "    <tr>\n",
       "      <th>6584</th>\n",
       "      <td>38</td>\n",
       "      <td>800</td>\n",
       "      <td>0.514492</td>\n",
       "      <td>-2.841170</td>\n",
       "      <td>[[1.12367, -3.1629500000000004, 0.688941364764...</td>\n",
       "      <td>0.949670</td>\n",
       "    </tr>\n",
       "    <tr>\n",
       "      <th>6738</th>\n",
       "      <td>39</td>\n",
       "      <td>800</td>\n",
       "      <td>1.277620</td>\n",
       "      <td>-1.366270</td>\n",
       "      <td>[[0.492647, -0.987395, 0.8716242747617805], [1...</td>\n",
       "      <td>0.977245</td>\n",
       "    </tr>\n",
       "    <tr>\n",
       "      <th>6919</th>\n",
       "      <td>40</td>\n",
       "      <td>800</td>\n",
       "      <td>0.492647</td>\n",
       "      <td>-0.987395</td>\n",
       "      <td>[[1.27762, -1.36627, 0.8716242747617805], [0.4...</td>\n",
       "      <td>0.845859</td>\n",
       "    </tr>\n",
       "    <tr>\n",
       "      <th>7088</th>\n",
       "      <td>41</td>\n",
       "      <td>800</td>\n",
       "      <td>1.390050</td>\n",
       "      <td>0.033854</td>\n",
       "      <td>[[0.42109, 0.309395, 1.0073760965112535], [0.4...</td>\n",
       "      <td>0.922210</td>\n",
       "    </tr>\n",
       "    <tr>\n",
       "      <th>7266</th>\n",
       "      <td>42</td>\n",
       "      <td>800</td>\n",
       "      <td>0.421090</td>\n",
       "      <td>0.309395</td>\n",
       "      <td>[[1.39005, 0.0338535, 1.0073760965112535], [0....</td>\n",
       "      <td>0.922948</td>\n",
       "    </tr>\n",
       "    <tr>\n",
       "      <th>7420</th>\n",
       "      <td>43</td>\n",
       "      <td>800</td>\n",
       "      <td>1.123310</td>\n",
       "      <td>1.718980</td>\n",
       "      <td>[[0.654466, 1.85476, 0.48810952125112256], [1....</td>\n",
       "      <td>1.011034</td>\n",
       "    </tr>\n",
       "    <tr>\n",
       "      <th>7599</th>\n",
       "      <td>44</td>\n",
       "      <td>800</td>\n",
       "      <td>0.654466</td>\n",
       "      <td>1.854760</td>\n",
       "      <td>[[1.12331, 1.71898, 0.48810952125112256], [0.3...</td>\n",
       "      <td>0.877887</td>\n",
       "    </tr>\n",
       "    <tr>\n",
       "      <th>7761</th>\n",
       "      <td>45</td>\n",
       "      <td>800</td>\n",
       "      <td>1.118190</td>\n",
       "      <td>3.252970</td>\n",
       "      <td>[[0.334736, 3.08176, 0.8019432861593145], [0.6...</td>\n",
       "      <td>1.106147</td>\n",
       "    </tr>\n",
       "    <tr>\n",
       "      <th>7936</th>\n",
       "      <td>46</td>\n",
       "      <td>800</td>\n",
       "      <td>0.334736</td>\n",
       "      <td>3.081760</td>\n",
       "      <td>[[1.11819, 3.2529700000000004, 0.8019432861593...</td>\n",
       "      <td>1.024269</td>\n",
       "    </tr>\n",
       "    <tr>\n",
       "      <th>8078</th>\n",
       "      <td>47</td>\n",
       "      <td>800</td>\n",
       "      <td>-0.193735</td>\n",
       "      <td>4.657920</td>\n",
       "      <td>[[0.14041499999999998, 5.03742, 0.505644610868...</td>\n",
       "      <td>0.926644</td>\n",
       "    </tr>\n",
       "    <tr>\n",
       "      <th>8259</th>\n",
       "      <td>48</td>\n",
       "      <td>800</td>\n",
       "      <td>0.140415</td>\n",
       "      <td>5.037420</td>\n",
       "      <td>[[-0.193735, 4.65792, 0.5056446108681473], [0....</td>\n",
       "      <td>1.166183</td>\n",
       "    </tr>\n",
       "    <tr>\n",
       "      <th>15983</th>\n",
       "      <td>88</td>\n",
       "      <td>800</td>\n",
       "      <td>1.123670</td>\n",
       "      <td>-3.162950</td>\n",
       "      <td>[[0.514492, -2.84117, 0.6889413647648109], [0....</td>\n",
       "      <td>1.051617</td>\n",
       "    </tr>\n",
       "  </tbody>\n",
       "</table>\n",
       "</div>"
      ],
      "text/plain": [
       "       ID  FRAME         X         Y  \\\n",
       "6435   37    800  0.061577 -4.469980   \n",
       "6584   38    800  0.514492 -2.841170   \n",
       "6738   39    800  1.277620 -1.366270   \n",
       "6919   40    800  0.492647 -0.987395   \n",
       "7088   41    800  1.390050  0.033854   \n",
       "7266   42    800  0.421090  0.309395   \n",
       "7420   43    800  1.123310  1.718980   \n",
       "7599   44    800  0.654466  1.854760   \n",
       "7761   45    800  1.118190  3.252970   \n",
       "7936   46    800  0.334736  3.081760   \n",
       "8078   47    800 -0.193735  4.657920   \n",
       "8259   48    800  0.140415  5.037420   \n",
       "15983  88    800  1.123670 -3.162950   \n",
       "\n",
       "                                        OTHERS_POSITIONS     SPEED  \n",
       "6435   [[1.12367, -3.1629500000000004, 1.684152045355...  0.992480  \n",
       "6584   [[1.12367, -3.1629500000000004, 0.688941364764...  0.949670  \n",
       "6738   [[0.492647, -0.987395, 0.8716242747617805], [1...  0.977245  \n",
       "6919   [[1.27762, -1.36627, 0.8716242747617805], [0.4...  0.845859  \n",
       "7088   [[0.42109, 0.309395, 1.0073760965112535], [0.4...  0.922210  \n",
       "7266   [[1.39005, 0.0338535, 1.0073760965112535], [0....  0.922948  \n",
       "7420   [[0.654466, 1.85476, 0.48810952125112256], [1....  1.011034  \n",
       "7599   [[1.12331, 1.71898, 0.48810952125112256], [0.3...  0.877887  \n",
       "7761   [[0.334736, 3.08176, 0.8019432861593145], [0.6...  1.106147  \n",
       "7936   [[1.11819, 3.2529700000000004, 0.8019432861593...  1.024269  \n",
       "8078   [[0.14041499999999998, 5.03742, 0.505644610868...  0.926644  \n",
       "8259   [[-0.193735, 4.65792, 0.5056446108681473], [0....  1.166183  \n",
       "15983  [[0.514492, -2.84117, 0.6889413647648109], [0....  1.051617  "
      ]
     },
     "execution_count": 15,
     "metadata": {},
     "output_type": "execute_result"
    }
   ],
   "source": [
    "df_2[df_2['FRAME'] == 800]"
   ]
  },
  {
   "cell_type": "code",
   "execution_count": 24,
   "metadata": {},
   "outputs": [
    {
     "data": {
      "text/plain": [
       "1.0815943235149146"
      ]
     },
     "execution_count": 24,
     "metadata": {},
     "output_type": "execute_result"
    }
   ],
   "source": [
    "reference_ped = 37\n",
    "dists = [el[2] for el in df_2[(df_2['FRAME'] == 800) & (df_2['ID'] == reference_ped)]['OTHERS_POSITIONS']]\n",
    "np.mean(dists)"
   ]
  },
  {
   "cell_type": "code",
   "execution_count": 48,
   "metadata": {},
   "outputs": [
    {
     "data": {
      "text/plain": [
       "5.527376342736993"
      ]
     },
     "execution_count": 48,
     "metadata": {},
     "output_type": "execute_result"
    }
   ],
   "source": [
    "import math\n",
    "ref_x, ref_y = float(df_2[(df_2['FRAME'] == 800) & (df_2['ID'] == reference_ped)]['X']), float(df_2[(df_2['FRAME'] == 800) & (df_2['ID'] == reference_ped)]['Y'])\n",
    "delta_x = []\n",
    "delta_y = []\n",
    "for i, r in  df_2[(df_2['FRAME'] == 800)].iterrows():\n",
    "    if r['ID'] != 37:\n",
    "        delta_x.append(r['X'] - ref_x)\n",
    "        delta_y.append(r['Y'] - ref_y)\n",
    "accum = 0\n",
    "for x, y in zip(delta_x, delta_y):\n",
    "    accum += math.sqrt(x**2 + y**2)\n",
    "accum /= len(delta_x)\n",
    "accum"
   ]
  },
  {
   "cell_type": "markdown",
   "metadata": {},
   "source": [
    "## STARTING FROM SCRATCH"
   ]
  },
  {
   "cell_type": "code",
   "execution_count": null,
   "metadata": {},
   "outputs": [],
   "source": []
  }
 ],
 "metadata": {
  "kernelspec": {
   "display_name": "Python 3",
   "language": "python",
   "name": "python3"
  },
  "language_info": {
   "codemirror_mode": {
    "name": "ipython",
    "version": 3
   },
   "file_extension": ".py",
   "mimetype": "text/x-python",
   "name": "python",
   "nbconvert_exporter": "python",
   "pygments_lexer": "ipython3",
   "version": "3.8.6"
  }
 },
 "nbformat": 4,
 "nbformat_minor": 4
}
