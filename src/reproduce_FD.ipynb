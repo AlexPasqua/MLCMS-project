{
 "cells": [
  {
   "cell_type": "code",
   "execution_count": 1,
   "metadata": {},
   "outputs": [],
   "source": [
    "from utilities import create_complete_dataframe\n",
    "import numpy as np\n",
    "import pandas as pd"
   ]
  },
  {
   "cell_type": "code",
   "execution_count": 2,
   "metadata": {},
   "outputs": [],
   "source": [
    "# go through all speeds of pedestrians, create new dataframe with pedestrian id and relative mean speed\n",
    "def create_mean_speed_df(path):\n",
    "    ext_df = create_complete_dataframe(path)\n",
    "    ped_ids = ext_df['ID'].unique()\n",
    "    ped_mean_speeds = []\n",
    "    for ped in ped_ids:\n",
    "        ped_mean_speeds.append(np.mean(ext_df[ext_df['ID'] == ped]['SPEED'].to_numpy()))\n",
    "    mean_speeds_df = pd.DataFrame(data={'ID': ped_ids, 'MEAN_SPEED': ped_mean_speeds})\n",
    "    return mean_speeds_df"
   ]
  },
  {
   "cell_type": "code",
   "execution_count": 3,
   "metadata": {},
   "outputs": [],
   "source": [
    "# create mean speed dataframe for the corridor data (15 persons)\n",
    "corridor_file = \"../data/Pedestrian_Trajectories/Corridor_Data/ug-180-015.txt\"\n",
    "mean_speeds_corridor_df = create_mean_speed_df(corridor_file)"
   ]
  },
  {
   "cell_type": "code",
   "execution_count": 4,
   "metadata": {},
   "outputs": [],
   "source": [
    "# save the created dataframe\n",
    "file_save = \"../data/mean_speed_corridor\"\n",
    "mean_speeds_corridor_df.to_pickle(file_save)"
   ]
  },
  {
   "cell_type": "code",
   "execution_count": 5,
   "metadata": {},
   "outputs": [],
   "source": [
    "# create mean speed dataframe for the bottleneck data (70 persons)\n",
    "bottleneck_file = \"../data/Pedestrian_Trajectories/Bottleneck_Data/uo-180-070.txt\"\n",
    "mean_speeds_bottleneck_df = create_mean_speed_df(bottleneck_file)"
   ]
  },
  {
   "cell_type": "code",
   "execution_count": 6,
   "metadata": {},
   "outputs": [],
   "source": [
    "# save the created dataframe\n",
    "file_save = \"../data/mean_speed_bottleneck\"\n",
    "mean_speeds_bottleneck_df.to_pickle(file_save)"
   ]
  },
  {
   "cell_type": "code",
   "execution_count": 14,
   "metadata": {},
   "outputs": [],
   "source": [
    "mean_speeds_bottleneck_df[(mean_speeds_bottleneck_df['ID'] == 1) & (mean_speeds_bottleneck_df['MEAN_SPEED'] > 1)]['ID']"
   ]
  }
 ],
 "metadata": {
  "kernelspec": {
   "display_name": "Python 3",
   "language": "python",
   "name": "python3"
  },
  "language_info": {
   "codemirror_mode": {
    "name": "ipython",
    "version": 3
   },
   "file_extension": ".py",
   "mimetype": "text/x-python",
   "name": "python",
   "nbconvert_exporter": "python",
   "pygments_lexer": "ipython3",
   "version": "3.8.6"
  }
 },
 "nbformat": 4,
 "nbformat_minor": 4
}
